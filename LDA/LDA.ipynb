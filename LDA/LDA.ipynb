{
 "cells": [
  {
   "cell_type": "code",
   "execution_count": 1,
   "metadata": {},
   "outputs": [],
   "source": [
    "import sklearn\n",
    "sklearn.__version__\n",
    "from sklearn.datasets import fetch_20newsgroups"
   ]
  },
  {
   "cell_type": "code",
   "execution_count": 2,
   "metadata": {},
   "outputs": [],
   "source": [
    "dataset = fetch_20newsgroups()"
   ]
  },
  {
   "cell_type": "code",
   "execution_count": 3,
   "metadata": {},
   "outputs": [
    {
     "data": {
      "text/plain": [
       "['alt.atheism',\n",
       " 'comp.graphics',\n",
       " 'comp.os.ms-windows.misc',\n",
       " 'comp.sys.ibm.pc.hardware',\n",
       " 'comp.sys.mac.hardware',\n",
       " 'comp.windows.x',\n",
       " 'misc.forsale',\n",
       " 'rec.autos',\n",
       " 'rec.motorcycles',\n",
       " 'rec.sport.baseball',\n",
       " 'rec.sport.hockey',\n",
       " 'sci.crypt',\n",
       " 'sci.electronics',\n",
       " 'sci.med',\n",
       " 'sci.space',\n",
       " 'soc.religion.christian',\n",
       " 'talk.politics.guns',\n",
       " 'talk.politics.mideast',\n",
       " 'talk.politics.misc',\n",
       " 'talk.religion.misc']"
      ]
     },
     "execution_count": 3,
     "metadata": {},
     "output_type": "execute_result"
    }
   ],
   "source": [
    "dataset.target_names"
   ]
  },
  {
   "cell_type": "code",
   "execution_count": 28,
   "metadata": {},
   "outputs": [
    {
     "name": "stdout",
     "output_type": "stream",
     "text": [
      "From: bjorndahl@augustana.ab.ca\n",
      "Subject: Re: document of .RTF\n",
      "Organization: Augustana University College, Camrose, Alberta\n",
      "Lines: 10\n",
      "\n",
      "In article <1993Mar30.113436.7339@worak.kaist.ac.kr>, tjyu@eve.kaist.ac.kr (Yu TaiJung) writes:\n",
      "> Does anybody have document of .RTF file or know where I can get it?\n",
      "> \n",
      "> Thanks in advance. :)\n",
      "\n",
      "I got one from Microsoft tech support.\n",
      "\n",
      "-- \n",
      "Sterling G. Bjorndahl, bjorndahl@Augustana.AB.CA or bjorndahl@camrose.uucp\n",
      "Augustana University College, Camrose, Alberta, Canada      (403) 679-1100\n",
      " comp.os.ms-windows.misc\n"
     ]
    }
   ],
   "source": [
    "raw_text = dataset.data\n",
    "target = dataset.target\n",
    "print(raw_text[500],dataset.target_names[target[500]])"
   ]
  },
  {
   "cell_type": "markdown",
   "metadata": {},
   "source": [
    "## Preprocess text\n",
    "\n",
    "0. split metadata and text. Pick only Subject\n",
    "1. Lowercase words\n",
    "2. delete email address \n",
    "3. Delete numbers, punctuations: \\[.,-+><&/*()|\"':;?{}[]`~\\]\n",
    "4. Replace \\$ sign by a \n",
    "4. Delete human names"
   ]
  },
  {
   "cell_type": "code",
   "execution_count": null,
   "metadata": {},
   "outputs": [],
   "source": [
    "import re\n",
    "# split metadata and text\n",
    "def split_metadata(data):\n",
    "    occurrence = text.find(\"\\n\\n\")\n",
    "    metadata = text[0:occurrence]\n",
    "    text = text[occurrence+2]\n",
    "    return metadata, text\n",
    "# get subject from metadata\n",
    "def get_subject(metadata):\n",
    "    # subject start with Subject: end with \\n\n",
    "    regex = 'Subject: (.*)\\n'\n",
    "    match = re.match(regex, metadata)\n",
    "    return match.group(1)\n",
    "# delete email address\n",
    "def del_email(text):\n",
    "    regex = ' .*@.* '\n",
    "    return re.sub(regex, \"\", text)\n",
    "# remove special characters\n",
    "def remove(text):\n",
    "    regex = ''"
   ]
  }
 ],
 "metadata": {
  "kernelspec": {
   "display_name": "Python 3",
   "language": "python",
   "name": "python3"
  },
  "language_info": {
   "codemirror_mode": {
    "name": "ipython",
    "version": 3
   },
   "file_extension": ".py",
   "mimetype": "text/x-python",
   "name": "python",
   "nbconvert_exporter": "python",
   "pygments_lexer": "ipython3",
   "version": "3.6.8"
  }
 },
 "nbformat": 4,
 "nbformat_minor": 2
}
